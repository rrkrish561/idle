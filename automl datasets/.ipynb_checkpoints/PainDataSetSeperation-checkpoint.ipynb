{
 "cells": [
  {
   "cell_type": "code",
   "execution_count": null,
   "metadata": {},
   "outputs": [],
   "source": [
    "import os\n",
    "from os import listdir\n",
    "from os.path import isfile, join\n",
    "mypath = \"C:\\\\Users\\\\bunne\\\\Desktop\\\\hackathons\\\\WHACK_IDLE\\\\idle\\\\automl datasets\\\\pain\""
   ]
  },
  {
   "cell_type": "code",
   "execution_count": null,
   "metadata": {},
   "outputs": [],
   "source": [
    "onlyFiles = [f for f in listdir(mypath) if isfile(join(mypath, f))]\n",
    "\n",
    "print(onlyFiles)"
   ]
  },
  {
   "cell_type": "code",
   "execution_count": null,
   "metadata": {},
   "outputs": [],
   "source": [
    "for x in onlyFiles:\n",
    "    # print(mypath + '\\\\' + x)\n",
    "    if len(x.split('-')) > 1:\n",
    "        #remove all 90 degree angle pictures\n",
    "        if x.split('-')[1] == '90.jpg':\n",
    "            os.remove(mypath + '\\\\' + x)\n",
    "        else:#move all 45 degree angle pictures to NotStressed folder\n",
    "            os.rename(mypath + '\\\\' + x, mypath + '\\\\NotStressed\\\\' + x)\n",
    "    else:\n",
    "        emInd = 0\n",
    "        for y in range(1,len(x)):\n",
    "            if x[y].isalpha():\n",
    "                emInd = y\n",
    "                break\n",
    "        print(mypath + '\\\\' + x)\n",
    "        print(x[emInd:emInd+2])\n",
    "        if (x[emInd] == 'a' or x[emInd] == 'f' or x[emInd] == 'd' or x[emInd] == 'p' or x[emInd:emInd+2] == 'sa'):\n",
    "            os.rename(mypath + '\\\\' + x, mypath + '\\\\Stressed\\\\' + x)\n",
    "        else:\n",
    "            os.rename(mypath + '\\\\' + x, mypath + '\\\\NotStressed\\\\' + x)\n"
   ]
  }
 ],
 "metadata": {
  "kernelspec": {
   "display_name": "Python 3",
   "language": "python",
   "name": "python3"
  },
  "language_info": {
   "codemirror_mode": {
    "name": "ipython",
    "version": 3
   },
   "file_extension": ".py",
   "mimetype": "text/x-python",
   "name": "python",
   "nbconvert_exporter": "python",
   "pygments_lexer": "ipython3",
   "version": "3.8.5"
  }
 },
 "nbformat": 4,
 "nbformat_minor": 4
}
